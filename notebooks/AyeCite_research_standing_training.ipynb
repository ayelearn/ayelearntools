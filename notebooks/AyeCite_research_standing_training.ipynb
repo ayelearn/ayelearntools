{
  "nbformat": 4,
  "nbformat_minor": 0,
  "metadata": {
    "colab": {
      "provenance": [],
      "collapsed_sections": []
    },
    "kernelspec": {
      "name": "python3",
      "display_name": "Python 3"
    },
    "language_info": {
      "name": "python"
    }
  },
  "cells": [
    {
      "cell_type": "markdown",
      "source": [
        "# _**AyeCite**™_ (Training Version) <small>by [_AyeAI_](https://ayeai.xyz)®</small>\n",
        "### An tool to iterate over research portfolios\n",
        "### **Research standing search utility**\n",
        "##### _Copyright 2019-2022 [Abhishek Choudhary](https://bit.ly/cognitist), [Dr Srija Katta](https://www.linkedin.com/in/srija-katta)_\n",
        "##### [**AyeSPL**](https://github.com/ayevdi/ayevdi/blob/master/LICENSE) License (latest version applies). This software tool is shared without any warranties. This must not be used for life saving or critical purposes.\n",
        "##### <small>_™AyeCite is claimed as a trademark by Abhishek Choudhary in India and other geographies ®AyeAI is a registered trademark of Abhishek Choudhary in India and other geographies_</small>"
      ],
      "metadata": {
        "id": "0f-OJXsSKGMe"
      }
    },
    {
      "cell_type": "code",
      "source": [
        "#@title Descrption and source [URL](https://en.wikipedia.org/wiki/Url) of the files\n",
        "#@markdown #### Click _show code_ to see / modify the list\n",
        "%%writefile /content/seedllist\n",
        "Authors index 2022\n",
        "https://elsevier.digitalcommonsdata.com/datasets/btchxktzyw/4\n",
        "https://prod-dcd-datasets-cache-zipfiles.s3.eu-west-1.amazonaws.com/btchxktzyw-4.zip\n",
        "\n",
        "Authors index 2021\n",
        "https://elsevier.digitalcommonsdata.com/datasets/btchxktzyw/3\n",
        "https://prod-dcd-datasets-cache-zipfiles.s3.eu-west-1.amazonaws.com/btchxktzyw-3.zip\n",
        "\n",
        "Authors index 2020\n",
        "https://elsevier.digitalcommonsdata.com/datasets/btchxktzyw/2\n",
        "https://prod-dcd-datasets-cache-zipfiles.s3.eu-west-1.amazonaws.com/btchxktzyw-2.zip\n",
        "\n",
        "Authors index 2019\n",
        "https://elsevier.digitalcommonsdata.com/datasets/btchxktzyw/1\n",
        "https://prod-dcd-datasets-cache-zipfiles.s3.eu-west-1.amazonaws.com/btchxktzyw-1.zip\n",
        "\n",
        "Article - 2020\n",
        "https://journals.plos.org/plosbiology/article?id=10.1371/journal.pbio.3000918\n",
        "\n"
      ],
      "metadata": {
        "colab": {
          "base_uri": "https://localhost:8080/"
        },
        "id": "WJcZwL7_FarF",
        "outputId": "fdcb7f3d-01df-4bab-d98b-ffc0f14925c0",
        "cellView": "form"
      },
      "execution_count": 1,
      "outputs": [
        {
          "output_type": "stream",
          "name": "stdout",
          "text": [
            "Writing /content/seedllist\n"
          ]
        }
      ]
    },
    {
      "cell_type": "code",
      "source": [
        "#@title Acquire the files ([ETA](https://en.wikipedia.org/wiki/Estimated_time_of_arrival): ~30 seconds) { vertical-output: true }\n",
        "#@markdown We use [**wget**](https://en.wikipedia.org/wiki/Wget) to download the files as described in the source list. <br>\n",
        "#@markdown The list is iterated over using a [\"for\" loop](https://en.wikipedia.org/wiki/For_loop) written in [**bash**](https://en.wikipedia.org/wiki/Bash_(Unix_shell)). <br>\n",
        "#@markdown The list is filtered using [**grep**](https://en.wikipedia.org/wiki/Estimated_time_of_arrival) to identiy **URLs** pointing to **zip** archives\n",
        "#@markdown The archive files are extracted using [**unzip**](https://en.wikipedia.org/wiki/ZIP_(file_format))\n",
        "\n",
        "\n",
        "acquire_cmd = \"\"\"\n",
        "  for n in $(cat /content/seedllist | grep https | grep zip)\n",
        "  do\n",
        "    file=$(basename $n)\n",
        "    echo Downloading $file from $n\n",
        "    rm -f $file\n",
        "    wget -q $n -O$file\n",
        "    echo Extracting content from $file\n",
        "    unzip -o $file\n",
        "  done\n",
        "\"\"\"\n",
        "\n",
        "print(\"Acquiring the files...\\nPlease wait a while (around 30 seconds)\")\n",
        "result = !{acquire_cmd}\n",
        "print(\"Done\")\n"
      ],
      "metadata": {
        "colab": {
          "base_uri": "https://localhost:8080/"
        },
        "cellView": "form",
        "id": "7pctV1-CA13Y",
        "outputId": "7b968f5b-e10b-48bd-ffce-4343453abe6b"
      },
      "execution_count": 2,
      "outputs": [
        {
          "output_type": "stream",
          "name": "stdout",
          "text": [
            "Acquiring the files...\n",
            "Please wait a while (around 30 seconds)\n",
            "Done\n"
          ]
        }
      ]
    },
    {
      "cell_type": "code",
      "source": [
        "#@title Install **tools** (ETA: ~30 seconds) { vertical-output: true }\n",
        "#@markdown We use **ssconvert** for converting **.xlsx** files to **.csv** <br>\n",
        "#@markdown The tool is part of [**gnumeric**](https://en.wikipedia.org/wiki/Gnumeric)\n",
        "#Ref: https://inconsolation.wordpress.com/2014/05/09/ssconvert-an-awful-lot-of-baggage/\n",
        "install_cmd=\"\"\"\n",
        "sudo apt-get install gnumeric\n",
        "\"\"\"\n",
        "\n",
        "print(\"Installing gnumeric...\")\n",
        "result = !{install_cmd}\n",
        "print(\"Done\")"
      ],
      "metadata": {
        "colab": {
          "base_uri": "https://localhost:8080/"
        },
        "cellView": "form",
        "id": "D-nIVOwAFfeT",
        "outputId": "30d6ffd2-98f7-4b48-eabc-42893fb712c5"
      },
      "execution_count": 3,
      "outputs": [
        {
          "output_type": "stream",
          "name": "stdout",
          "text": [
            "Installing gnumeric...\n",
            "Done\n"
          ]
        }
      ]
    },
    {
      "cell_type": "code",
      "source": [
        "#@title Move the files to a clean folder (ETA: ~1 second) { vertical-output: true }\n",
        "#@markdown We use **find** and **grep** to identify xlsx files.<br>\n",
        "#@markdown The result is **piped** through **xargs** to be used with **mv** command\n",
        "move_cmd=\"\"\"\n",
        "mkdir -p source\n",
        "find . -type f | grep '.xlsx$' | xargs -n1 -I{} mv \"{}\" source/\n",
        "\"\"\"\n",
        "\n",
        "print(\"Moving the xlsx files to folder named source...\")\n",
        "result=!{move_cmd}\n",
        "print(\"Done\")"
      ],
      "metadata": {
        "colab": {
          "base_uri": "https://localhost:8080/"
        },
        "cellView": "form",
        "id": "UI3fhGp6Fkx7",
        "outputId": "0f087586-5205-403a-f802-3f3077f391ee"
      },
      "execution_count": 4,
      "outputs": [
        {
          "output_type": "stream",
          "name": "stdout",
          "text": [
            "Moving the xlsx files to folder named source...\n",
            "Done\n"
          ]
        }
      ]
    },
    {
      "cell_type": "code",
      "source": [
        "#@title Convert the files to **csv** (ETA: ~5 minutes) { vertical-output: true }\n",
        "#@markdown We use a **for** loop to iterate over the files. <br>\n",
        "#@markdown Each xlsx file is converted to csv on a per sheet basis\n",
        "convert_cmd = \"\"\"\n",
        "cd source\n",
        "for n in $(ls *.xlsx)\n",
        "do\n",
        "  echo $n\n",
        "  rm -f $n.csv\n",
        "  ssconvert -S --export-type=Gnumeric_stf:stf_csv $n $n.csv\n",
        "done\n",
        "\"\"\"\n",
        "\n",
        "print(\"Converting the xlsx to csv...\")\n",
        "print(\"Please wait a while (around 5 minutes)\")\n",
        "result = !{convert_cmd}\n",
        "print(\"Done\")"
      ],
      "metadata": {
        "colab": {
          "base_uri": "https://localhost:8080/"
        },
        "cellView": "form",
        "id": "R9HCz1lTH8zV",
        "outputId": "7ef6e4f8-1116-4251-ec2c-94c6a28ebe5e"
      },
      "execution_count": 5,
      "outputs": [
        {
          "output_type": "stream",
          "name": "stdout",
          "text": [
            "Converting the xlsx to csv...\n",
            "Please wait a while (around 5 minutes)\n",
            "Done\n"
          ]
        }
      ]
    },
    {
      "cell_type": "code",
      "source": [
        "#@title List the generated CSV files by size (ETA: <1 second)\n",
        "#@markdown Here we use a for loop in Python\n",
        "sizelst_cmd = \"\"\"\n",
        "cd source\n",
        "ls -lS | grep csv\n",
        "\"\"\"\n",
        "\n",
        "print(\"The generated csv files are listed below by size\")\n",
        "result=!{sizelst_cmd}\n",
        "for i in result:\n",
        "  print(i)"
      ],
      "metadata": {
        "colab": {
          "base_uri": "https://localhost:8080/"
        },
        "id": "bktA1dr2QMkg",
        "outputId": "abb3a34c-9945-4872-9a7f-f3fc40068c32",
        "cellView": "form"
      },
      "execution_count": 6,
      "outputs": [
        {
          "output_type": "stream",
          "name": "stdout",
          "text": [
            "The generated csv files are listed below by size\n",
            "-rw-r--r-- 1 root root 82476600 Oct 19 04:39 Table_1_Authors_career_2021_pubs_since_1788_wopp_extracted_202209.xlsx.csv.1\n",
            "-rw-r--r-- 1 root root 81606313 Oct 19 04:41 Table_1_Authors_singleyr_2021_pubs_since_1788_wopp_extracted_202209.xlsx.csv.1\n",
            "-rw-r--r-- 1 root root 77767976 Oct 19 04:38 Table_1_Authors_career_2020_wopp_extracted_202108.xlsx.csv.1\n",
            "-rw-r--r-- 1 root root 77093290 Oct 19 04:40 Table_1_Authors_singleyr_2020_wopp_extracted_202108.xlsx.csv.1\n",
            "-rw-r--r-- 1 root root 64709035 Oct 19 04:43 Table-S6-career-2019.xlsx.csv.1\n",
            "-rw-r--r-- 1 root root 63391746 Oct 19 04:44 Table-S7-singleyr-2019.xlsx.csv.1\n",
            "-rw-r--r-- 1 root root 42048377 Oct 19 04:42 Table-S4-career-2018.xlsx.csv.1\n",
            "-rw-r--r-- 1 root root 33005586 Oct 19 04:42 Table-S1-career-2017.xlsx.csv.1\n",
            "-rw-r--r-- 1 root root 30743882 Oct 19 04:42 Table-S2-singleyr-2017.xlsx.csv.1\n",
            "-rw-r--r-- 1 root root    44373 Oct 19 04:41 Table_2_field_subfield_thresholds_career_2020_wopp_extracted_202108.xlsx.csv.1\n",
            "-rw-r--r-- 1 root root    43445 Oct 19 04:41 Table_2_field_subfield_thresholds_singleyr_2020_wopp_extracted_202108.xlsx.csv.1\n",
            "-rw-r--r-- 1 root root    43403 Oct 19 04:44 Table-S8-Field-Subfield-Thresholds-career-2019.xlsx.csv.1\n",
            "-rw-r--r-- 1 root root    42006 Oct 19 04:44 Table-S9-Field-Subfield-Thresholds-singleyr-2019.xlsx.csv.1\n",
            "-rw-r--r-- 1 root root    40764 Oct 19 04:41 Table_2_field_subfield_thresholds_career_2021_pubs_since_1788_wopp_extracted_202209.xlsx.csv.1\n",
            "-rw-r--r-- 1 root root    39521 Oct 19 04:41 Table_2_field_subfield_thresholds_singleyr_2021_pubs_since_1788_wopp_extracted_202209.xlsx.csv.1\n",
            "-rw-r--r-- 1 root root    24222 Oct 19 04:42 Table-S3.xlsx.csv.0\n",
            "-rw-r--r-- 1 root root     5453 Oct 19 04:44 Table-S8-Field-Subfield-Thresholds-career-2019.xlsx.csv.0\n",
            "-rw-r--r-- 1 root root     5336 Oct 19 04:41 Table_2_field_subfield_thresholds_career_2020_wopp_extracted_202108.xlsx.csv.0\n",
            "-rw-r--r-- 1 root root     5265 Oct 19 04:41 Table_2_field_subfield_thresholds_career_2021_pubs_since_1788_wopp_extracted_202209.xlsx.csv.0\n",
            "-rw-r--r-- 1 root root     5111 Oct 19 04:41 Table_2_field_subfield_thresholds_singleyr_2021_pubs_since_1788_wopp_extracted_202209.xlsx.csv.0\n",
            "-rw-r--r-- 1 root root     5081 Oct 19 04:41 Table_2_field_subfield_thresholds_singleyr_2020_wopp_extracted_202108.xlsx.csv.0\n",
            "-rw-r--r-- 1 root root     5081 Oct 19 04:44 Table-S9-Field-Subfield-Thresholds-singleyr-2019.xlsx.csv.0\n",
            "-rw-r--r-- 1 root root     5005 Oct 19 04:42 Table-S5-compare100.xlsx.csv.0\n",
            "-rw-r--r-- 1 root root     3422 Oct 19 04:42 Table-S3.xlsx.csv.1\n",
            "-rw-r--r-- 1 root root     3113 Oct 19 04:38 Table_1_Authors_career_2020_wopp_extracted_202108.xlsx.csv.0\n",
            "-rw-r--r-- 1 root root     3113 Oct 19 04:39 Table_1_Authors_career_2021_pubs_since_1788_wopp_extracted_202209.xlsx.csv.0\n",
            "-rw-r--r-- 1 root root     3113 Oct 19 04:40 Table_1_Authors_singleyr_2020_wopp_extracted_202108.xlsx.csv.0\n",
            "-rw-r--r-- 1 root root     3113 Oct 19 04:41 Table_1_Authors_singleyr_2021_pubs_since_1788_wopp_extracted_202209.xlsx.csv.0\n",
            "-rw-r--r-- 1 root root     3113 Oct 19 04:43 Table-S6-career-2019.xlsx.csv.0\n",
            "-rw-r--r-- 1 root root     3113 Oct 19 04:44 Table-S7-singleyr-2019.xlsx.csv.0\n",
            "-rw-r--r-- 1 root root     2652 Oct 19 04:41 Table-S1-career-2017.xlsx.csv.0\n",
            "-rw-r--r-- 1 root root     2652 Oct 19 04:42 Table-S4-career-2018.xlsx.csv.0\n",
            "-rw-r--r-- 1 root root     2617 Oct 19 04:42 Table-S2-singleyr-2017.xlsx.csv.0\n",
            "-rw-r--r-- 1 root root      320 Oct 19 04:41 Table_3_maxlog_career_2021_pubs_since_1788_wopp_extracted_202209.xlsx.csv.0\n",
            "-rw-r--r-- 1 root root      319 Oct 19 04:41 Table_3_maxlog_career_2020_wopp_extracted_202108.xlsx.csv.0\n",
            "-rw-r--r-- 1 root root      318 Oct 19 04:41 Table_3_maxlog_singleyr_2020_wopp_extracted_202108.xlsx.csv.0\n",
            "-rw-r--r-- 1 root root      318 Oct 19 04:41 Table_3_maxlog_singleyr_2021_pubs_since_1788_wopp_extracted_202209.xlsx.csv.0\n"
          ]
        }
      ]
    },
    {
      "cell_type": "code",
      "source": [
        "#@title Find files for a specific tag { vertical-output: true }\n",
        "#@markdown You can enter you own tags, or select from the list\n",
        "search_tag = \"_2021_\" #@param [\"_2021_\", \"_2020_\"]{allow-input: true}\n",
        "\n",
        "print(\"You can also type / paste the tags from below\",end='\\n\\n')\n",
        "\n",
        "tag_cmd = \"\"\"\n",
        "cd source\n",
        "ls | sed 's/[^A-Za-z0-9]/\\\\n/g' | sort -u\n",
        "\"\"\"\n",
        "tags_list = !{tag_cmd}\n",
        "items=0\n",
        "for n in tags_list:\n",
        "  print(n.ljust(15, ' '),end='')\n",
        "  items = items+1\n",
        "  if(0 == items % 5):\n",
        "    print('')\n",
        "\n",
        "print('\\n\\n')\n",
        "search_cmd = \"\"\"\n",
        "cd source\n",
        "ls *.csv.* | grep \"\"\" + search_tag\n",
        "\n",
        "print(\"The following files match your search criteria\\n\")\n",
        "result_search = !{search_cmd}\n",
        "for n in result_search:\n",
        "  print(n)"
      ],
      "metadata": {
        "colab": {
          "base_uri": "https://localhost:8080/"
        },
        "id": "TEqRXm_GQcqg",
        "outputId": "61b4a6de-027f-4e9b-a9cc-1ccaa057d0bd",
        "cellView": "form"
      },
      "execution_count": 45,
      "outputs": [
        {
          "output_type": "stream",
          "name": "stdout",
          "text": [
            "You can also type / paste the tags from below\n",
            "\n",
            "0              1              1788           2              2017           \n",
            "2018           2019           2020           2021           202108         \n",
            "202209         3              Authors        career         compare100     \n",
            "csv            extracted      field          Field          maxlog         \n",
            "pubs           S1             S2             S3             S4             \n",
            "S5             S6             S7             S8             S9             \n",
            "since          singleyr       subfield       Subfield       Table          \n",
            "thresholds     Thresholds     wopp           xlsx           \n",
            "\n",
            "\n",
            "The following files match your search criteria\n",
            "\n",
            "Table_1_Authors_career_2021_pubs_since_1788_wopp_extracted_202209.xlsx.csv.0\n",
            "Table_1_Authors_career_2021_pubs_since_1788_wopp_extracted_202209.xlsx.csv.1\n",
            "Table_1_Authors_singleyr_2021_pubs_since_1788_wopp_extracted_202209.xlsx.csv.0\n",
            "Table_1_Authors_singleyr_2021_pubs_since_1788_wopp_extracted_202209.xlsx.csv.1\n",
            "Table_2_field_subfield_thresholds_career_2021_pubs_since_1788_wopp_extracted_202209.xlsx.csv.0\n",
            "Table_2_field_subfield_thresholds_career_2021_pubs_since_1788_wopp_extracted_202209.xlsx.csv.1\n",
            "Table_2_field_subfield_thresholds_singleyr_2021_pubs_since_1788_wopp_extracted_202209.xlsx.csv.0\n",
            "Table_2_field_subfield_thresholds_singleyr_2021_pubs_since_1788_wopp_extracted_202209.xlsx.csv.1\n",
            "Table_3_maxlog_career_2021_pubs_since_1788_wopp_extracted_202209.xlsx.csv.0\n",
            "Table_3_maxlog_singleyr_2021_pubs_since_1788_wopp_extracted_202209.xlsx.csv.0\n"
          ]
        }
      ]
    },
    {
      "cell_type": "code",
      "source": [
        "#@title Find the selected files' schema and entry count by making cat calls { vertical-output: true }\n",
        "#@markdown The schemas of the selected files are as follows <br>\n",
        "cat_bin = \"\"\"\n",
        "which cat\n",
        "\"\"\"\n",
        "cat_exe = !{cat_bin}\n",
        "\n",
        "cat_call = \"\"\"\n",
        "cd source\n",
        "cat filename | filter\n",
        "\"\"\"\n",
        "\n",
        "for n in result_search:\n",
        "  print(n)\n",
        "  print(\"Schema: \",end='')\n",
        "  !{cat_call.replace(\"filename\",n).replace(\"filter\",\"head -1\")}\n",
        "  print(\"Entries (including header): \",end='')\n",
        "  !{cat_call.replace(\"filename\",n).replace(\"filter\",\"wc -l\")}\n",
        "  print('\\n')\n"
      ],
      "metadata": {
        "colab": {
          "base_uri": "https://localhost:8080/"
        },
        "id": "_A5dgX3jQ8RF",
        "outputId": "6d5da23e-032e-4c3d-b01e-85d5c78325b8",
        "cellView": "form"
      },
      "execution_count": 62,
      "outputs": [
        {
          "output_type": "stream",
          "name": "stdout",
          "text": [
            "Table_1_Authors_career_2021_pubs_since_1788_wopp_extracted_202209.xlsx.csv.0\n",
            "Schema: FIELD,BASIS,DESCRIPTION\n",
            "Entries (including header): 47\n",
            "\n",
            "\n",
            "Table_1_Authors_career_2021_pubs_since_1788_wopp_extracted_202209.xlsx.csv.1\n",
            "Schema: authfull,inst_name,cntry,np6021,firstyr,lastyr,\"rank (ns)\",\"nc9621 (ns)\",\"h21 (ns)\",\"hm21 (ns)\",\"nps (ns)\",\"ncs (ns)\",\"cpsf (ns)\",\"ncsf (ns)\",\"npsfl (ns)\",\"ncsfl (ns)\",\"c (ns)\",\"npciting (ns)\",\"cprat (ns)\",\"np6021 cited9621 (ns)\",self%,rank,nc9621,h21,hm21,nps,ncs,cpsf,ncsf,npsfl,ncsfl,c,npciting,cprat,\"np6021 cited9621\",np6021_d,nc9621_d,sm-subfield-1,sm-subfield-1-frac,sm-subfield-2,sm-subfield-2-frac,sm-field,sm-field-frac,\"rank sm-subfield-1\",\"rank sm-subfield-1 (ns)\",\"sm-subfield-1 count\"\n",
            "Entries (including header): 195606\n",
            "\n",
            "\n",
            "Table_1_Authors_singleyr_2021_pubs_since_1788_wopp_extracted_202209.xlsx.csv.0\n",
            "Schema: FIELD,BASIS,DESCRIPTION\n",
            "Entries (including header): 47\n",
            "\n",
            "\n",
            "Table_1_Authors_singleyr_2021_pubs_since_1788_wopp_extracted_202209.xlsx.csv.1\n",
            "Schema: authfull,inst_name,cntry,np6021,firstyr,lastyr,\"rank (ns)\",\"nc2121 (ns)\",\"h21 (ns)\",\"hm21 (ns)\",\"nps (ns)\",\"ncs (ns)\",\"cpsf (ns)\",\"ncsf (ns)\",\"npsfl (ns)\",\"ncsfl (ns)\",\"c (ns)\",\"npciting (ns)\",\"cprat (ns)\",\"np6021 cited2121 (ns)\",self%,rank,nc2121,h21,hm21,nps,ncs,cpsf,ncsf,npsfl,ncsfl,c,npciting,cprat,\"np6021 cited2121\",np6021_d,nc2121_d,sm-subfield-1,sm-subfield-1-frac,sm-subfield-2,sm-subfield-2-frac,sm-field,sm-field-frac,\"rank sm-subfield-1\",\"rank sm-subfield-1 (ns)\",\"sm-subfield-1 count\"\n",
            "Entries (including header): 200410\n",
            "\n",
            "\n",
            "Table_2_field_subfield_thresholds_career_2021_pubs_since_1788_wopp_extracted_202209.xlsx.csv.0\n",
            "Schema: Domain,Field,#Auth,\"#Auth top 100k (ns)\",\"% in 100k (ns)\",\"#Auth top 100k\",\"% in 100k\",\"#Auth in top-list\",\"% in top-list\",Cites@25,Cites@50,Cites@75,Cites@90,Cites@95,Cites@99,c@25,c@50,c@75,c@90,c@95,c@99,\"top-list self%@95\",\"top-list self%@99\",\"top-list cprat@95\",\"top-list cprat@99\",\"top-list cprat@95 (ns)\",\"top-list cprat@99 (ns)\"\n",
            "Entries (including header): 23\n",
            "\n",
            "\n",
            "Table_2_field_subfield_thresholds_career_2021_pubs_since_1788_wopp_extracted_202209.xlsx.csv.1\n",
            "Schema: Domain,Field,Subfield,#Auth,\"#Auth top 100k (ns)\",\"% in 100k (ns)\",\"#Auth top 100k\",\"% in 100k\",\"#Auth in top-list\",\"% in top-list\",Cites@25,Cites@50,Cites@75,Cites@90,Cites@95,Cites@99,c@25,c@50,c@75,c@90,c@95,c@99,\"top-list self%@95\",\"top-list self%@99\",\"top-list cprat@95\",\"top-list cprat@99\",\"top-list cprat@95 (ns)\",\"top-list cprat@99 (ns)\"\n",
            "Entries (including header): 163\n",
            "\n",
            "\n",
            "Table_2_field_subfield_thresholds_singleyr_2021_pubs_since_1788_wopp_extracted_202209.xlsx.csv.0\n",
            "Schema: Domain,Field,#Auth,\"#Auth top 100k (ns)\",\"% in 100k (ns)\",\"#Auth top 100k\",\"% in 100k\",\"#Auth in top-list\",\"% in top-list\",Cites@25,Cites@50,Cites@75,Cites@90,Cites@95,Cites@99,c@25,c@50,c@75,c@90,c@95,c@99,\"top-list self%@95\",\"top-list self%@99\",\"top-list cprat@95\",\"top-list cprat@99\",\"top-list cprat@95 (ns)\",\"top-list cprat@99 (ns)\"\n",
            "Entries (including header): 23\n",
            "\n",
            "\n",
            "Table_2_field_subfield_thresholds_singleyr_2021_pubs_since_1788_wopp_extracted_202209.xlsx.csv.1\n",
            "Schema: Domain,Field,Subfield,#Auth,\"#Auth top 100k (ns)\",\"% in 100k (ns)\",\"#Auth top 100k\",\"% in 100k\",\"#Auth in top-list\",\"% in top-list\",Cites@25,Cites@50,Cites@75,Cites@90,Cites@95,Cites@99,c@25,c@50,c@75,c@90,c@95,c@99,\"top-list self%@95\",\"top-list self%@99\",\"top-list cprat@95\",\"top-list cprat@99\",\"top-list cprat@95 (ns)\",\"top-list cprat@99 (ns)\"\n",
            "Entries (including header): 163\n",
            "\n",
            "\n",
            "Table_3_maxlog_career_2021_pubs_since_1788_wopp_extracted_202209.xlsx.csv.0\n",
            "Schema: nc9621,h21,hm21,ncs,ncsf,ncsfl,\"nc9621 (ns)\",\"h21 (ns)\",\"hm21 (ns)\",\"ncs (ns)\",\"ncsf (ns)\",\"ncsfl (ns)\"\n",
            "Entries (including header): 2\n",
            "\n",
            "\n",
            "Table_3_maxlog_singleyr_2021_pubs_since_1788_wopp_extracted_202209.xlsx.csv.0\n",
            "Schema: nc2121,h21,hm21,ncs,ncsf,ncsfl,\"nc2121 (ns)\",\"h21 (ns)\",\"hm21 (ns)\",\"ncs (ns)\",\"ncsf (ns)\",\"ncsfl (ns)\"\n",
            "Entries (including header): 2\n",
            "\n",
            "\n"
          ]
        }
      ]
    },
    {
      "cell_type": "code",
      "source": [
        "#@title Look for specific authors by making cat calls { vertical-output: true }\n",
        "#@markdown Partial names are acceptable for serach criteria <br>\n",
        "#@markdown TBD: The current version does a generic search and strings are searched across all fields\n",
        "Author_last_name = \"Balkrishna\" #@param {type:\"string\"}\n",
        "Author_first_name = \"Acharya\" #@param {type:\"string\"}\n",
        "Author_country = \"ind\" #@param {type:\"string\"}\n",
        "Author_institution = \"Patanjali\" #@param {type:\"string\"}\n",
        "#@markdown The author search result per file <br>\n",
        "cat_bin = \"\"\"\n",
        "which cat\n",
        "\"\"\"\n",
        "cat_exe = !{cat_bin}\n",
        "\n",
        "cat_call = \"\"\"\n",
        "cd source\n",
        "cat filename | filter\n",
        "\"\"\"\n",
        "\n",
        "grep_filter = \"cat \"\n",
        "if len(Author_last_name)>0:\n",
        "  grep_filter = grep_filter + '| grep \"' + Author_last_name + '\"'\n",
        "if len(Author_first_name)>0:\n",
        "  grep_filter = grep_filter + '| grep \"' + Author_first_name + '\"'\n",
        "if len(Author_country)>0:\n",
        "  grep_filter = grep_filter + '| grep \"' + Author_country + '\"'\n",
        "if len(Author_institution)>0:\n",
        "  grep_filter = grep_filter + '| grep \"' + Author_institution + '\"'\n",
        "\n",
        "print(grep_filter,end='\\n\\n')\n",
        "\n",
        "for n in result_search:\n",
        "  print(n)\n",
        "  try:\n",
        "    !{cat_call.replace(\"filename\",n).replace(\"filter\",grep_filter)}\n",
        "  except:\n",
        "    print(\"Sorry, no matches! Please modify the criteria\")\n",
        "  print('\\n')\n"
      ],
      "metadata": {
        "colab": {
          "base_uri": "https://localhost:8080/"
        },
        "id": "cmAYRxPhS0gE",
        "outputId": "64e0d278-5a8c-46d4-8dfa-5a52e0f445dd",
        "cellView": "form"
      },
      "execution_count": 80,
      "outputs": [
        {
          "output_type": "stream",
          "name": "stdout",
          "text": [
            "cat | grep \"Balkrishna\"| grep \"Acharya\"| grep \"ind\"| grep \"Patanjali\"\n",
            "\n",
            "Table_1_Authors_career_2021_pubs_since_1788_wopp_extracted_202209.xlsx.csv.0\n",
            "\n",
            "\n",
            "Table_1_Authors_career_2021_pubs_since_1788_wopp_extracted_202209.xlsx.csv.1\n",
            "\n",
            "\n",
            "Table_1_Authors_singleyr_2021_pubs_since_1788_wopp_extracted_202209.xlsx.csv.0\n",
            "\n",
            "\n",
            "Table_1_Authors_singleyr_2021_pubs_since_1788_wopp_extracted_202209.xlsx.csv.1\n",
            "\"Balkrishna, Acharya\",\"Patanjali Yog Peeth Trust, Haridwar\",ind,117,2009,2022,367268,189,6,3.436904761904762,0,0,56,100,109,178,2.222103713812799,171,1.105263157894737,68,0.1818,314687,231,7,3.996428571428571,0,0,56,137,109,217,2.343175321908442,193,1.196891191709845,69,2,2,\"Medicinal & Biomolecular Chemistry\",0.2,\"Neurology & Neurosurgery\",0.1478260869565217,\"Clinical Medicine\",0.6,1704,2078,99546\n",
            "\n",
            "\n",
            "Table_2_field_subfield_thresholds_career_2021_pubs_since_1788_wopp_extracted_202209.xlsx.csv.0\n",
            "\n",
            "\n",
            "Table_2_field_subfield_thresholds_career_2021_pubs_since_1788_wopp_extracted_202209.xlsx.csv.1\n",
            "\n",
            "\n",
            "Table_2_field_subfield_thresholds_singleyr_2021_pubs_since_1788_wopp_extracted_202209.xlsx.csv.0\n",
            "\n",
            "\n",
            "Table_2_field_subfield_thresholds_singleyr_2021_pubs_since_1788_wopp_extracted_202209.xlsx.csv.1\n",
            "\n",
            "\n",
            "Table_3_maxlog_career_2021_pubs_since_1788_wopp_extracted_202209.xlsx.csv.0\n",
            "\n",
            "\n",
            "Table_3_maxlog_singleyr_2021_pubs_since_1788_wopp_extracted_202209.xlsx.csv.0\n",
            "\n",
            "\n"
          ]
        }
      ]
    }
  ]
}